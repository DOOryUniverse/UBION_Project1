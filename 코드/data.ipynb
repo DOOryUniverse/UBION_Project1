{
 "cells": [
  {
   "cell_type": "code",
   "execution_count": 1,
   "metadata": {},
   "outputs": [],
   "source": [
    "import pandas as pd\n",
    "import numpy as np"
   ]
  },
  {
   "cell_type": "code",
   "execution_count": 3,
   "metadata": {},
   "outputs": [],
   "source": [
    "경제활동인구_및_참가율 = pd.read_csv(\"../datasets/경제활동인구_및_참가율.csv\", encoding='CP949')\n",
    "고용률 = pd.read_csv(\"../datasets/고용률.csv\", encoding='CP949')\n",
    "국내총생산 = pd.read_csv(\"../datasets/국내총생산.csv\", encoding='CP949')\n",
    "국민부담률 = pd.read_csv(\"../datasets/국민부담률.csv\", encoding='CP949')\n",
    "무역의존도 = pd.read_csv(\"../datasets/무역의존도.csv\", encoding='CP949')\n",
    "수출수입 = pd.read_csv(\"../datasets/수출수입.csv\", encoding='CP949')\n",
    "실업률 = pd.read_csv(\"../datasets/실업률.csv\", encoding='CP949')\n",
    "외환보유액 = pd.read_csv(\"../datasets/외환보유액.csv\", encoding='CP949')\n",
    "일반정부_총_부채_비율 = pd.read_csv(\"../datasets/일반정부_총_부채_비율.csv\", encoding='CP949')\n",
    "평균근로자_세금 = pd.read_csv(\"../datasets/평균근로자_세금.csv\", encoding='CP949')\n",
    "GDP_디플레이터 = pd.read_csv(\"../datasets/GDP_디플레이터.csv\", encoding='CP949')\n",
    "GDP_성장률 = pd.read_csv(\"../datasets/GDP_성장률.csv\", encoding='CP949')"
   ]
  },
  {
   "cell_type": "code",
   "execution_count": 4,
   "metadata": {},
   "outputs": [],
   "source": [
    "from functools import reduce\n",
    "\n",
    "lists = [국내총생산, 고용률, 국민부담률,경제활동인구_및_참가율, 무역의존도,수출수입, 외환보유액, 일반정부_총_부채_비율, 실업률, 평균근로자_세금, GDP_디플레이터, GDP_성장률]\n",
    "## lists 목록 하나씩 불러와서 시점,국가별 기준\n",
    "## 국내총생산에 left join\n",
    "all = reduce(lambda left,right : pd.merge(left, right, on=('시점', '국가별'), how='left'), lists)\n",
    "## 무역의존도_수입과 수입에 NA값인데 -하나만 들어가있는 경우가 있어서 삭제\n",
    "all['무역의존도_수입'] = all['무역의존도_수입'].replace('-', np.NaN)\n",
    "all['수입'] = all['수입'].replace('-', np.NaN)\n",
    "all['무역의존도_수입'] = all['무역의존도_수입'].astype(float)\n",
    "all['수입'] = all['수입'].astype(float)"
   ]
  },
  {
   "cell_type": "code",
   "execution_count": 6,
   "metadata": {},
   "outputs": [],
   "source": [
    "all.to_csv('../datasets/all.csv', encoding='CP949', index=None)"
   ]
  },
  {
   "cell_type": "code",
   "execution_count": 24,
   "metadata": {},
   "outputs": [
    {
     "name": "stdout",
     "output_type": "stream",
     "text": [
      "<class 'pandas.core.frame.DataFrame'>\n",
      "Int64Index: 816 entries, 0 to 815\n",
      "Data columns (total 16 columns):\n",
      " #   Column       Non-Null Count  Dtype  \n",
      "---  ------       --------------  -----  \n",
      " 0   국가별          816 non-null    object \n",
      " 1   시점           816 non-null    int64  \n",
      " 2   국내총생산        816 non-null    int64  \n",
      " 3   고용률          735 non-null    float64\n",
      " 4   국민부담률        738 non-null    float64\n",
      " 5   경제활동참가율 (%)  795 non-null    float64\n",
      " 6   무역의존도_수출     796 non-null    float64\n",
      " 7   무역의존도_수입     796 non-null    object \n",
      " 8   수출           796 non-null    float64\n",
      " 9   수입           796 non-null    object \n",
      " 10  외환보유액        797 non-null    float64\n",
      " 11  부채비율         687 non-null    float64\n",
      " 12  실업률          804 non-null    float64\n",
      " 13  평균근로자세금      755 non-null    float64\n",
      " 14  디플레이터        782 non-null    float64\n",
      " 15  GDP_성장률      807 non-null    float64\n",
      "dtypes: float64(11), int64(2), object(3)\n",
      "memory usage: 108.4+ KB\n"
     ]
    }
   ],
   "source": [
    "all.info()"
   ]
  },
  {
   "cell_type": "code",
   "execution_count": 9,
   "metadata": {},
   "outputs": [
    {
     "data": {
      "text/plain": [
       "국가별\n",
       "그리스        21\n",
       "네덜란드       21\n",
       "노르웨이       21\n",
       "뉴질랜드       21\n",
       "덴마크        21\n",
       "독일         21\n",
       "라트비아       21\n",
       "룩셈부르크      21\n",
       "리투아니아      21\n",
       "리히텐슈타인     19\n",
       "멕시코        21\n",
       "미국         21\n",
       "벨기에        21\n",
       "스웨덴        21\n",
       "스위스        21\n",
       "스페인        21\n",
       "슬로바키아      21\n",
       "슬로베니아      21\n",
       "아이슬란드      21\n",
       "아일랜드       21\n",
       "에스토니아      21\n",
       "영국         21\n",
       "오스트레일리아    21\n",
       "오스트리아      21\n",
       "이스라엘       21\n",
       "이탈리아       21\n",
       "일본         20\n",
       "체코         21\n",
       "칠레         21\n",
       "캐나다        21\n",
       "코스타리카      21\n",
       "콜롬비아       21\n",
       "터키         21\n",
       "포르투갈       21\n",
       "폴란드        21\n",
       "프랑스        21\n",
       "핀란드        21\n",
       "한국         21\n",
       "헝가리        21\n",
       "Name: 시점, dtype: int64"
      ]
     },
     "execution_count": 9,
     "metadata": {},
     "output_type": "execute_result"
    }
   ],
   "source": [
    "all.groupby('국가별').count()['시점']"
   ]
  },
  {
   "cell_type": "code",
   "execution_count": null,
   "metadata": {},
   "outputs": [],
   "source": []
  }
 ],
 "metadata": {
  "interpreter": {
   "hash": "1fa163922eb0b3709bbb5d8082b2465c9de796dbaacca80cbaa600e7fff3e4fe"
  },
  "kernelspec": {
   "display_name": "Python 3.10.1 64-bit",
   "language": "python",
   "name": "python3"
  },
  "language_info": {
   "codemirror_mode": {
    "name": "ipython",
    "version": 3
   },
   "file_extension": ".py",
   "mimetype": "text/x-python",
   "name": "python",
   "nbconvert_exporter": "python",
   "pygments_lexer": "ipython3",
   "version": "3.10.1"
  },
  "orig_nbformat": 4
 },
 "nbformat": 4,
 "nbformat_minor": 2
}
